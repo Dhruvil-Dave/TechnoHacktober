import pandas as pd
import numpy as np
import seaborn as sns
import matplotlib.pyplot as plt
from sklearn import tree
from google.colab import files
uploaded = files.upload()
//dataset:https://www.kaggle.com/iamhungundji/covid19-symptoms-checker/version/2
df=pd.read_csv("Cleaned-Data.csv")
df.head()
df.info()
df.describe()
%%time
df['Severity']=0
for x in range(0,len(df)):
        if(df['Severity_Severe'].iloc[x]==1):
            df['Severity'].iloc[x]=1
        elif(df['Severity_Moderate'].iloc[x]==1):
            df['Severity'].iloc[x]=0
        elif(df['Severity_Mild'].iloc[x]==1):
            df['Severity'].iloc[x]=0
        elif(df['Severity_None'].iloc[x]==1):
            df['Severity'].iloc[x]=0
y=df.Severity

list=['Country', 'Contact_No', 'Contact_Dont-Know','Severity_Mild','Severity_Moderate','Severity_None', 'Severity_Severe', 'Severity']
x= df.drop(list, axis=1)
from sklearn.tree import DecisionTreeClassifier
from sklearn.model_selection import train_test_split
from sklearn.metrics import confusion_matrix
from sklearn.metrics import accuracy_score
from sklearn import metrics
x_train, x_test, y_train, y_test = train_test_split(x, y, test_size=0.3, random_state=1)
x_test.head()
clf=DecisionTreeClassifier(random_state=42,max_depth=4)
clf=clf.fit(x_train,y_train)
ac = accuracy_score(y_test,clf.predict(x_test))
print('Accuracy is: ',ac)
cm = confusion_matrix(y_test,clf.predict(x_test))
sns.heatmap(cm,annot=True,fmt="d")
TP = cm[1,1]
TN = cm[0,0]
FP = cm[0,1]
FN = cm[1,0]
    
print((TP+TN)/float(TP+TN+FP+FN))
print('Accuracy of Decision Tree is = {}'.format(metrics.accuracy_score(y_test,clf.predict(x_test))))
    
print(TP/float(TP+FP))
print('Precision of Decision Tree is = {}'.format(metrics.precision_score(y_test, clf.predict(x_test))))
