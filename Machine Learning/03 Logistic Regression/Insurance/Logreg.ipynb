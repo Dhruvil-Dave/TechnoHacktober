import pandas as pd
from matplotlib import pyplot as plt
%matplotlib inline
from google.colab import files
uploaded = files.upload()

df=pd.read_csv("insurance.csv")
df.head()
df.info()
plt.scatter(df.age,df.charges,marker='+',color='red')
df.shape

from sklearn.model_selection import train_test_split
X_train, X_test, Y_train, Y_test = train_test_split(df[['age']],df.charges,train_size=0.8)
X_test

from sklearn.linear_model import LogisticRegression
model=LogisticRegression()
model.fit(X_train,Y_train)
Y_pred = model.predict(X_test)
Y_pred
model.score(X_test,Y_test)
model.predict_proba(X_test)

import sklearn.metrics as metrics
y_pred=model.predict(X_test)
print("Accuracy:",metrics.accuracy_score(Y_test, Y_pred))
print("Precision:",metrics.precision_score(Y_test, Y_pred))
print("Recall:",metrics.recall_score(Y_test, Y_pred))

from sklearn.metrics import confusion_matrix
confusion_matrix(Y_test,Y_pred)

x_range = 80
Xs = [i for i in range(x_range)]
Ys = [model.predict_proba([[value]])[0][1] for value in range(x_range)]

plt.scatter(df['age'], df['charges'])
plt.plot(Xs, Ys, color='red')

#Method 2
x1=df['age'].values.reshape(-1,1)
y1=df['charges']

lr=LogisticRegression(solver='liblinear')
lr.fit(x1,y1)

y_pred = lr.predict(x1)
print(metrics.classification_report(y1,y_pred))

import math
print ('RMSE=', math.sqrt(metrics.mean_squared_error(y1,y_pred)))


